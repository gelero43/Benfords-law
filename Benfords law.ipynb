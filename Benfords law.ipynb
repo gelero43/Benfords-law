{
 "cells": [
  {
   "cell_type": "code",
   "execution_count": 6,
   "metadata": {},
   "outputs": [],
   "source": [
    "import pandas as pd \n",
    "import matplotlib.pyplot as plt\n",
    "import seaborn as sns\n",
    "import os\n",
    "import numpy as np\n",
    "import math\n",
    "import random"
   ]
  },
  {
   "cell_type": "code",
   "execution_count": 7,
   "metadata": {},
   "outputs": [
    {
     "name": "stdout",
     "output_type": "stream",
     "text": [
      "Please enter the pathname of the xlsx e.g C:/Users/new/Desktop/thisone.xlsx \n",
      "C:/Users/new/Desktop/thisone.xlsx\n"
     ]
    },
    {
     "data": {
      "text/plain": [
       "'C:/Users/new/Desktop/thisone.xlsx'"
      ]
     },
     "execution_count": 7,
     "metadata": {},
     "output_type": "execute_result"
    }
   ],
   "source": [
    "filepath = input(\"Please enter the pathname of the xlsx e.g C:/Users/new/Desktop/thisone.xlsx \\n\")\n",
    "filepath"
   ]
  },
  {
   "cell_type": "code",
   "execution_count": 8,
   "metadata": {},
   "outputs": [
    {
     "name": "stdout",
     "output_type": "stream",
     "text": [
      "               0\n",
      "0     4335186017\n",
      "1     4961400439\n",
      "2     5213047711\n",
      "3     5895278024\n",
      "4     6669673257\n",
      "5     7689154053\n",
      "6     8591517944\n",
      "7     9275600800\n",
      "8    10090675903\n",
      "9    11615657031\n",
      "10   13139863636\n",
      "11   14591750000\n",
      "12   16885511364\n",
      "13   22347848101\n",
      "14   25351306818\n",
      "15   28525876727\n",
      "16   31152835821\n",
      "17   36176234968\n",
      "18   44270204082\n",
      "19   54481876725\n",
      "20   56829664269\n",
      "21   52346506765\n",
      "22   54617989796\n",
      "23   49428873839\n",
      "24   48020024184\n",
      "25   47820851221\n",
      "26   56379593476\n",
      "27   65652750377\n",
      "28   76261277925\n",
      "29   79169043223\n",
      "..           ...\n",
      "31  105143000000\n",
      "32  116225000000\n",
      "33  108809000000\n",
      "34  116602000000\n",
      "35  136878000000\n",
      "36  145862000000\n",
      "37  143158000000\n",
      "38  144428000000\n",
      "39  142541000000\n",
      "40  130134000000\n",
      "41  136191000000\n",
      "42  153831000000\n",
      "43  201924000000\n",
      "44  240521000000\n",
      "45  247783000000\n",
      "46  273318000000\n",
      "47  318498000000\n",
      "48  354461000000\n",
      "49  330000000000\n",
      "50  296835000000\n",
      "51  282626000000\n",
      "52  242054000000\n",
      "53  238484000000\n",
      "54  235295000000\n",
      "55  195318000000\n",
      "56  192732000000\n",
      "57  199631000000\n",
      "58  212146000000\n",
      "59  205327000000\n",
      "60  189410000000\n",
      "\n",
      "[61 rows x 1 columns]\n"
     ]
    }
   ],
   "source": [
    "df = pd.read_excel(value, header=None)\n",
    "print (df)"
   ]
  },
  {
   "cell_type": "code",
   "execution_count": 9,
   "metadata": {},
   "outputs": [],
   "source": [
    "def getlastdigits(num):\n",
    "    if type(num) is int:\n",
    "        return num%100\n",
    "    elif type(num) is float:\n",
    "        return int(num*100)%100\n",
    "    return 'error'"
   ]
  },
  {
   "cell_type": "code",
   "execution_count": 10,
   "metadata": {},
   "outputs": [],
   "source": [
    "def getfrequency_percentage(data,digits):\n",
    "    frequency = []\n",
    "    for i in digits:\n",
    "        count = data.count(i)\n",
    "        frequency.append(count)\n",
    "    total=sum(frequency)\n",
    "    frequency_percentage = frequency\n",
    "    for i in range(len(frequency)):\n",
    "        frequency_percentage[i] = (frequency[i]/total)*100\n",
    "    return frequency_percentage"
   ]
  },
  {
   "cell_type": "code",
   "execution_count": 11,
   "metadata": {},
   "outputs": [],
   "source": [
    "data2 = list(df[0])\n",
    "last_digits = data2\n",
    "for i in range(len(data2)):\n",
    "    last_digits[i] = getlastdigits(data2[i])    "
   ]
  },
  {
   "cell_type": "code",
   "execution_count": 12,
   "metadata": {},
   "outputs": [],
   "source": [
    "data=list(df[0])\n",
    "for i in range(len(data)):\n",
    "    while data[i]>10:\n",
    "        data[i]=data[i]/10\n",
    "            "
   ]
  },
  {
   "cell_type": "code",
   "execution_count": 13,
   "metadata": {},
   "outputs": [],
   "source": [
    "data3 = list(df[0])\n",
    "for i in range(len(data3)):\n",
    "    while data3[i]>100:\n",
    "        data3[i]=data3[i]/10"
   ]
  },
  {
   "cell_type": "code",
   "execution_count": 14,
   "metadata": {},
   "outputs": [],
   "source": [
    "first_digits=data\n",
    "i=0\n",
    "for i in range(len(data)):\n",
    "    first_digits[i]=int(data[i])\n",
    "    i = i+1"
   ]
  },
  {
   "cell_type": "code",
   "execution_count": 15,
   "metadata": {},
   "outputs": [],
   "source": [
    "second_digits = data3\n",
    "i = 0\n",
    "for i in range(len(data3)):\n",
    "    second_digits[i] = int(data3[i])%10\n",
    "    i = i+1 "
   ]
  },
  {
   "cell_type": "code",
   "execution_count": 16,
   "metadata": {},
   "outputs": [
    {
     "data": {
      "text/plain": [
       "{1, 2, 3, 4, 5, 6, 7, 8, 9}"
      ]
     },
     "execution_count": 16,
     "metadata": {},
     "output_type": "execute_result"
    }
   ],
   "source": [
    "digits={1,2,3,4,5,6,7,8,9}\n",
    "digits"
   ]
  },
  {
   "cell_type": "code",
   "execution_count": 17,
   "metadata": {},
   "outputs": [],
   "source": [
    "frequency_percentage=getfrequency_percentage(first_digits,digits)"
   ]
  },
  {
   "cell_type": "code",
   "execution_count": 18,
   "metadata": {},
   "outputs": [],
   "source": [
    "benfords_percentages = [30.1, 17.6, 12.5, 9.7, 7.9, 6.7, 5.8, 5.1, 4.6]"
   ]
  },
  {
   "cell_type": "code",
   "execution_count": 19,
   "metadata": {},
   "outputs": [
    {
     "data": {
      "text/plain": [
       "9.959099679883145"
      ]
     },
     "execution_count": 19,
     "metadata": {},
     "output_type": "execute_result"
    }
   ],
   "source": [
    "chi_square_stat = 0\n",
    "i=0\n",
    "for i in range(len(frequency_percentage)):\n",
    "        chi_square =(frequency_percentage[i] - benfords_percentages[i])**2\n",
    "        chi_square_stat = chi_square_stat + chi_square/benfords_percentages[i]\n",
    "        i=i+1\n",
    "chi_square_stat        "
   ]
  },
  {
   "cell_type": "code",
   "execution_count": 20,
   "metadata": {},
   "outputs": [
    {
     "name": "stdout",
     "output_type": "stream",
     "text": [
      "observed frequencies\n",
      "[34.42622950819672, 22.950819672131146, 8.19672131147541, 9.836065573770492, 11.475409836065573, 3.278688524590164, 4.918032786885246, 1.639344262295082, 3.278688524590164]\n",
      "benfords percentages\n",
      "[30.1, 17.6, 12.5, 9.7, 7.9, 6.7, 5.8, 5.1, 4.6]\n",
      "critical value is 15.507 and the chi_square_stat is 9.959099679883145\n",
      "the distribution of the numbers match the expected benfords distribution\n"
     ]
    }
   ],
   "source": [
    "print(\"observed frequencies\")\n",
    "print(frequency_percentage)\n",
    "print(\"benfords percentages\")\n",
    "print(benfords_percentages)\n",
    "print(\"critical value is 15.507 and the chi_square_stat is \"+ str(chi_square_stat))\n",
    "#critical value with df=8 and p value 0.05 is 15.507\n",
    "if chi_square_stat < 15.507:\n",
    "    print(\"the distribution of the numbers match the expected benfords distribution\")\n",
    "else:\n",
    "    print(\"the distribution of the numbers does not match the expected benfords distribution\")"
   ]
  },
  {
   "cell_type": "code",
   "execution_count": 21,
   "metadata": {},
   "outputs": [
    {
     "data": {
      "text/plain": [
       "[8.19672131147541,\n",
       " 9.836065573770492,\n",
       " 6.557377049180328,\n",
       " 13.114754098360656,\n",
       " 18.0327868852459,\n",
       " 8.19672131147541,\n",
       " 11.475409836065573,\n",
       " 4.918032786885246,\n",
       " 8.19672131147541,\n",
       " 11.475409836065573]"
      ]
     },
     "execution_count": 21,
     "metadata": {},
     "output_type": "execute_result"
    }
   ],
   "source": [
    "digitspluszero ={0,1,2,3,4,5,6,7,8,9}\n",
    "frequency_percentage_of_second_digit= getfrequency_percentage(second_digits,digitspluszero)\n",
    "frequency_percentage_of_second_digit"
   ]
  },
  {
   "cell_type": "code",
   "execution_count": 22,
   "metadata": {},
   "outputs": [
    {
     "data": {
      "image/png": "[encoded data removed]",
      "text/plain": [
       "<Figure size 432x288 with 1 Axes>"
      ]
     },
     "metadata": {
      "needs_background": "light"
     },
     "output_type": "display_data"
    }
   ],
   "source": [
    "plt.bar([1,2,3,4,5,6,7,8,9],frequency_percentage,color ='maroon',zorder =1 )\n",
    "plt.scatter([1,2,3,4,5,6,7,8,9],benfords_percentages, color='b', s=40,zorder=2)\n",
    "plt.show()"
   ]
  },
  {
   "cell_type": "code",
   "execution_count": 23,
   "metadata": {},
   "outputs": [],
   "source": [
    "benfords_second = [11.96, 11.38, 10.88, 10.43, 10.03, 9.6, 9.3, 9.0, 8.7, 8.5]"
   ]
  },
  {
   "cell_type": "code",
   "execution_count": 24,
   "metadata": {},
   "outputs": [
    {
     "data": {
      "text/plain": [
       "13.82337854825915"
      ]
     },
     "execution_count": 24,
     "metadata": {},
     "output_type": "execute_result"
    }
   ],
   "source": [
    "chi_square_stat2 = 0\n",
    "i=0\n",
    "for i in range(len(frequency_percentage_of_second_digit)):\n",
    "        chi_square =(frequency_percentage_of_second_digit[i] - benfords_second[i])**2\n",
    "        chi_square_stat2 = chi_square_stat2 + chi_square/benfords_second[i]\n",
    "        i=i+1\n",
    "chi_square_stat2   "
   ]
  },
  {
   "cell_type": "code",
   "execution_count": 25,
   "metadata": {},
   "outputs": [
    {
     "name": "stdout",
     "output_type": "stream",
     "text": [
      "observed frequencies of second digit\n",
      "[8.19672131147541, 9.836065573770492, 6.557377049180328, 13.114754098360656, 18.0327868852459, 8.19672131147541, 11.475409836065573, 4.918032786885246, 8.19672131147541, 11.475409836065573]\n",
      "benfords percentages\n",
      "[11.96, 11.38, 10.88, 10.43, 10.03, 9.6, 9.3, 9.0, 8.7, 8.5]\n",
      "critical value is 16.919 and the chi_square_stat is 13.82337854825915\n",
      "the distribution of the numbers match the expected benfords distribution\n"
     ]
    }
   ],
   "source": [
    "print(\"observed frequencies of second digit\")\n",
    "print(frequency_percentage_of_second_digit)\n",
    "print(\"benfords percentages\")\n",
    "print(benfords_second)\n",
    "print(\"critical value is 16.919 and the chi_square_stat is \"+ str(chi_square_stat2))\n",
    "#critical value with df=8 and p value 0.05 is 16.919\n",
    "if chi_square_stat2 < 16.919:\n",
    "    print(\"the distribution of the numbers match the expected benfords distribution\")\n",
    "else:\n",
    "    print(\"the distribution of the numbers does not match the expected benfords distribution\")"
   ]
  },
  {
   "cell_type": "code",
   "execution_count": 26,
   "metadata": {},
   "outputs": [
    {
     "data": {
      "image/png": "[encoded data removed]",
      "text/plain": [
       "<Figure size 432x288 with 1 Axes>"
      ]
     },
     "metadata": {
      "needs_background": "light"
     },
     "output_type": "display_data"
    }
   ],
   "source": [
    "plt.bar([0,1,2,3,4,5,6,7,8,9],frequency_percentage_of_second_digit,color ='maroon',zorder =1 )\n",
    "plt.scatter([0,1,2,3,4,5,6,7,8,9],benfords_second, color='b', s=40,zorder=2)\n",
    "plt.show()"
   ]
  },
  {
   "cell_type": "code",
   "execution_count": 27,
   "metadata": {},
   "outputs": [],
   "source": [
    "random_double_digits = last_digits\n",
    "for i in range (len(random_double_digits)):\n",
    "    random_double_digits[i] = random.randint(0,99)"
   ]
  },
  {
   "cell_type": "code",
   "execution_count": 28,
   "metadata": {},
   "outputs": [
    {
     "name": "stdout",
     "output_type": "stream",
     "text": [
      "how barplot of random data should look like\n"
     ]
    },
    {
     "data": {
      "text/plain": [
       "<BarContainer object of 100 artists>"
      ]
     },
     "execution_count": 28,
     "metadata": {},
     "output_type": "execute_result"
    },
    {
     "data": {
      "image/png": "[encoded data removed]",
      "text/plain": [
       "<Figure size 432x288 with 1 Axes>"
      ]
     },
     "metadata": {
      "needs_background": "light"
     },
     "output_type": "display_data"
    }
   ],
   "source": [
    "print(\"how barplot of random data should look like\")\n",
    "plt.bar(list(range(0,100)),getfrequency_percentage(random_double_digits,list(range(0,100))),color ='maroon' )"
   ]
  },
  {
   "cell_type": "code",
   "execution_count": 29,
   "metadata": {},
   "outputs": [
    {
     "name": "stdout",
     "output_type": "stream",
     "text": [
      "how your data look like\n"
     ]
    },
    {
     "data": {
      "text/plain": [
       "<BarContainer object of 100 artists>"
      ]
     },
     "execution_count": 29,
     "metadata": {},
     "output_type": "execute_result"
    },
    {
     "data": {
      "image/png": "[encoded data removed]",
      "text/plain": [
       "<Figure size 720x360 with 1 Axes>"
      ]
     },
     "metadata": {
      "needs_background": "light"
     },
     "output_type": "display_data"
    }
   ],
   "source": [
    "print(\"how your data look like\")\n",
    "frequency_percentage_of_last_digits = getfrequency_percentage(last_digits,list(range(0,100)))\n",
    "fig = plt.figure(figsize = (10, 5))\n",
    "plt.bar(list(range(0,100)),frequency_percentage_of_last_digits,color ='maroon' )"
   ]
  },
  {
   "cell_type": "code",
   "execution_count": 30,
   "metadata": {},
   "outputs": [
    {
     "name": "stdout",
     "output_type": "stream",
     "text": [
      "(1) Is there a pair (or pairs) that is unaccountably more common than the others?\n",
      "(2) Are doubled digits (especially 00 and 55) consistently less common than average?\n",
      "(3) Are descending pairs (10, 21, 32, 43, 54, 65, 76, 87, 98) consistently more common?\n"
     ]
    }
   ],
   "source": [
    "print(\"(1) Is there a pair (or pairs) that is unaccountably more common than the others?\")\n",
    "print(\"(2) Are doubled digits (especially 00 and 55) consistently less common than average?\")\n",
    "print(\"(3) Are descending pairs (10, 21, 32, 43, 54, 65, 76, 87, 98) consistently more common?\")"
   ]
  },
  {
   "cell_type": "code",
   "execution_count": null,
   "metadata": {},
   "outputs": [],
   "source": []
  }
 ],
 "metadata": {
  "kernelspec": {
   "display_name": "Python 3",
   "language": "python",
   "name": "python3"
  },
  "language_info": {
   "codemirror_mode": {
    "name": "ipython",
    "version": 3
   },
   "file_extension": ".py",
   "mimetype": "text/x-python",
   "name": "python",
   "nbconvert_exporter": "python",
   "pygments_lexer": "ipython3",
   "version": "3.7.1"
  }
 },
 "nbformat": 4,
 "nbformat_minor": 2
}
